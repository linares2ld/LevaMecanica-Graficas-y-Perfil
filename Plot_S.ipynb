{
 "cells": [
  {
   "cell_type": "code",
   "execution_count": 1,
   "metadata": {},
   "outputs": [],
   "source": [
    "import numpy as np\n",
    "import matplotlib.pyplot as plt\n",
    "import camdesign as cd\n",
    "import pandas as pd"
   ]
  },
  {
   "cell_type": "code",
   "execution_count": 2,
   "metadata": {},
   "outputs": [],
   "source": [
    "def f_leva(valor): #0.8 0.4\n",
    "    A_leva = np.pi*0.8*2\n",
    "    A_piasada = np.pi*0.4*2\n",
    "    return (valor/A_leva)*A_piasada\n",
    "\n",
    "def Desplazamiento(valor):\n",
    "    return valor/(30*0.6**4*np.pi**2)\n",
    "\n",
    "def RadioLeva(valor):\n",
    "    return valor + 2"
   ]
  },
  {
   "cell_type": "code",
   "execution_count": 3,
   "metadata": {},
   "outputs": [
    {
     "data": {
      "text/html": [
       "<div>\n",
       "<style scoped>\n",
       "    .dataframe tbody tr th:only-of-type {\n",
       "        vertical-align: middle;\n",
       "    }\n",
       "\n",
       "    .dataframe tbody tr th {\n",
       "        vertical-align: top;\n",
       "    }\n",
       "\n",
       "    .dataframe thead th {\n",
       "        text-align: right;\n",
       "    }\n",
       "</style>\n",
       "<table border=\"1\" class=\"dataframe\">\n",
       "  <thead>\n",
       "    <tr style=\"text-align: right;\">\n",
       "      <th></th>\n",
       "      <th>Grados</th>\n",
       "      <th>Fuerza de la pisada - lb</th>\n",
       "      <th>Fuerza de la leva - lb</th>\n",
       "      <th>Desplazamiento</th>\n",
       "      <th>Radio de la leva</th>\n",
       "    </tr>\n",
       "  </thead>\n",
       "  <tbody>\n",
       "    <tr>\n",
       "      <th>0</th>\n",
       "      <td>0</td>\n",
       "      <td>0</td>\n",
       "      <td>0.0</td>\n",
       "      <td>0.000000</td>\n",
       "      <td>2.000000</td>\n",
       "    </tr>\n",
       "    <tr>\n",
       "      <th>1</th>\n",
       "      <td>57</td>\n",
       "      <td>113</td>\n",
       "      <td>56.5</td>\n",
       "      <td>1.472389</td>\n",
       "      <td>3.472389</td>\n",
       "    </tr>\n",
       "    <tr>\n",
       "      <th>2</th>\n",
       "      <td>125</td>\n",
       "      <td>80</td>\n",
       "      <td>40.0</td>\n",
       "      <td>1.042399</td>\n",
       "      <td>3.042399</td>\n",
       "    </tr>\n",
       "    <tr>\n",
       "      <th>3</th>\n",
       "      <td>200</td>\n",
       "      <td>108</td>\n",
       "      <td>54.0</td>\n",
       "      <td>1.407239</td>\n",
       "      <td>3.407239</td>\n",
       "    </tr>\n",
       "    <tr>\n",
       "      <th>4</th>\n",
       "      <td>260</td>\n",
       "      <td>0</td>\n",
       "      <td>0.0</td>\n",
       "      <td>0.000000</td>\n",
       "      <td>2.000000</td>\n",
       "    </tr>\n",
       "    <tr>\n",
       "      <th>5</th>\n",
       "      <td>360</td>\n",
       "      <td>0</td>\n",
       "      <td>0.0</td>\n",
       "      <td>0.000000</td>\n",
       "      <td>2.000000</td>\n",
       "    </tr>\n",
       "  </tbody>\n",
       "</table>\n",
       "</div>"
      ],
      "text/plain": [
       "   Grados  Fuerza de la pisada - lb  Fuerza de la leva - lb  Desplazamiento  \\\n",
       "0       0                         0                     0.0        0.000000   \n",
       "1      57                       113                    56.5        1.472389   \n",
       "2     125                        80                    40.0        1.042399   \n",
       "3     200                       108                    54.0        1.407239   \n",
       "4     260                         0                     0.0        0.000000   \n",
       "5     360                         0                     0.0        0.000000   \n",
       "\n",
       "   Radio de la leva  \n",
       "0          2.000000  \n",
       "1          3.472389  \n",
       "2          3.042399  \n",
       "3          3.407239  \n",
       "4          2.000000  \n",
       "5          2.000000  "
      ]
     },
     "execution_count": 3,
     "metadata": {},
     "output_type": "execute_result"
    }
   ],
   "source": [
    "f_pisada = [0, 113, 80, 108, 0, 0]\n",
    "grados = [0, 57, 125, 200, 260, 360]\n",
    "desplazamiento = [0, 0, 0, 0, 0, 0]\n",
    "\n",
    "dict = {'Grados':grados,\n",
    "        'Fuerza de la pisada - lb':f_pisada}\n",
    "df_datos = pd.DataFrame(dict)\n",
    "df_datos['Fuerza de la leva - lb'] = df_datos['Fuerza de la pisada - lb'].apply(f_leva)\n",
    "df_datos['Desplazamiento'] = df_datos['Fuerza de la leva - lb'].apply(Desplazamiento)\n",
    "df_datos['Radio de la leva'] = df_datos['Desplazamiento'].apply(RadioLeva)\n",
    "\n",
    "df_datos"
   ]
  }
 ],
 "metadata": {
  "kernelspec": {
   "display_name": "base",
   "language": "python",
   "name": "python3"
  },
  "language_info": {
   "codemirror_mode": {
    "name": "ipython",
    "version": 3
   },
   "file_extension": ".py",
   "mimetype": "text/x-python",
   "name": "python",
   "nbconvert_exporter": "python",
   "pygments_lexer": "ipython3",
   "version": "3.12.2"
  }
 },
 "nbformat": 4,
 "nbformat_minor": 2
}
